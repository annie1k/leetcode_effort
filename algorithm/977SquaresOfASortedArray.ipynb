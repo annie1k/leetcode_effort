{
 "cells": [
  {
   "cell_type": "markdown",
   "metadata": {},
   "source": [
    "### Problem Description\n",
    "\n",
    "Given an integer array nums sorted in non-decreasing order, return an array of the squares of each number sorted in non-decreasing order."
   ]
  },
  {
   "cell_type": "markdown",
   "metadata": {},
   "source": [
    "Example1:\n",
    "<p>Input: nums = [-4,-1,0,3,10]</p>\n",
    "<p>Output: [0,1,9,16,100]</p>\n",
    "<p>Explanation: After squaring, the array becomes [16,1,0,9,100].\n",
    "After sorting, it becomes [0,1,9,16,100].</p>"
   ]
  },
  {
   "cell_type": "markdown",
   "metadata": {},
   "source": [
    "Example2:\n",
    "<p>Input: nums = [-7,-3,2,3,11]</p>\n",
    "<p>Output: [4,9,9,49,121]</p>"
   ]
  },
  {
   "cell_type": "code",
   "execution_count": null,
   "metadata": {},
   "outputs": [],
   "source": [
    "# 这是我的第一想法\n",
    "\n",
    "def sortedSquares(self, nums):\n",
    "    \"\"\"\n",
    "    :type nums: List[int]\n",
    "    :rtype: List[int]\n",
    "    \"\"\"\n",
    "    output = []\n",
    "    for i in nums:\n",
    "        output.append(i ** 2)\n",
    "    output.sort()\n",
    "    return output"
   ]
  },
  {
   "cell_type": "code",
   "execution_count": null,
   "metadata": {},
   "outputs": [],
   "source": [
    "# 另一个解法,看着很酷，每次比较两个比较大的一个加到答案里，但是很慢\n",
    "\n",
    "class Solution:\n",
    "    def sortedSquares(self, nums: List[int]) -> List[int]:\n",
    "        l = len(nums)\n",
    "        left, right = 0, l - 1\n",
    "        res = [0] * l\n",
    "        cur = l - 1\n",
    "        while left <= right:\n",
    "            if abs(nums[left]) > abs(nums[right]):\n",
    "                res[cur] = nums[left] ** 2\n",
    "                left += 1\n",
    "            else:\n",
    "                res[cur] = nums[right] ** 2\n",
    "                right -= 1\n",
    "            cur -= 1\n",
    "        return res"
   ]
  }
 ],
 "metadata": {
  "interpreter": {
   "hash": "aee8b7b246df8f9039afb4144a1f6fd8d2ca17a180786b69acc140d282b71a49"
  },
  "kernelspec": {
   "display_name": "Python 3.7.3 64-bit",
   "language": "python",
   "name": "python3"
  },
  "language_info": {
   "name": "python",
   "version": "3.7.3"
  },
  "orig_nbformat": 4
 },
 "nbformat": 4,
 "nbformat_minor": 2
}
