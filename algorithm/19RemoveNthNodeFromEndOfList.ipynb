{
 "cells": [
  {
   "cell_type": "markdown",
   "metadata": {},
   "source": [
    "#### Problem Description\n",
    "Given the head of a linked list, remove the nth node from the end of the list and return its head."
   ]
  },
  {
   "cell_type": "markdown",
   "metadata": {},
   "source": [
    "Example1:\n",
    "<p>Input: head = [1,2,3,4,5], n = 2</p>\n",
    "<p>Output: [1,2,3,5]</p>"
   ]
  },
  {
   "cell_type": "markdown",
   "metadata": {},
   "source": [
    "Example2:\n",
    "<p>Input: head = [1], n = 1</p>\n",
    "<p>Output: []</p>"
   ]
  },
  {
   "cell_type": "markdown",
   "metadata": {},
   "source": [
    "Example3:\n",
    "<p>Input: head = [1,2], n = 1</p>\n",
    "<p>Output: [1]</p>"
   ]
  },
  {
   "cell_type": "code",
   "execution_count": null,
   "metadata": {},
   "outputs": [],
   "source": [
    "# 来自 https://zhenyu0519.github.io/2020/06/04/lc19/\n",
    "class Solution:\n",
    "    def removeNthFromEnd(self, head: Optional[ListNode], n: int) -> Optional[ListNode]:\n",
    "        size = 0\n",
    "        new_head = dummy_head = head\n",
    "        while head:\n",
    "            size+=1\n",
    "            head = head.next\n",
    "        stop = size - n\n",
    "        if stop == 0: return new_head.next\n",
    "        counter = 1\n",
    "        while dummy_head:\n",
    "            if counter == stop:\n",
    "                dummy_head.next = dummy_head.next.next\n",
    "                return new_head\n",
    "            counter+=1\n",
    "            dummy_head = dummy_head.next"
   ]
  }
 ],
 "metadata": {
  "interpreter": {
   "hash": "31f2aee4e71d21fbe5cf8b01ff0e069b9275f58929596ceb00d14d90e3e16cd6"
  },
  "kernelspec": {
   "display_name": "Python 3.8.2 64-bit",
   "language": "python",
   "name": "python3"
  },
  "language_info": {
   "name": "python",
   "version": "3.8.2"
  },
  "orig_nbformat": 4
 },
 "nbformat": 4,
 "nbformat_minor": 2
}
