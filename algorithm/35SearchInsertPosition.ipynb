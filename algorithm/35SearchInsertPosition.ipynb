{
 "cells": [
  {
   "cell_type": "markdown",
   "metadata": {},
   "source": [
    "### Question Description\n",
    "Given a sorted array of distinct integers and a target value, return the index if the target is found. If not, return the index where it would be if it were inserted in order.\n",
    "\n",
    "You must write an algorithm with O(log n) runtime complexity."
   ]
  },
  {
   "cell_type": "markdown",
   "metadata": {},
   "source": [
    "Example 1:\n",
    "\n",
    "<p>Input: nums = [1,3,5,6], target = 5</p>\n",
    "Output: 2"
   ]
  },
  {
   "cell_type": "markdown",
   "metadata": {},
   "source": [
    "Example 2:\n",
    "\n",
    "<p>Input: nums = [1,3,5,6], target = 2</p>\n",
    "Output: 1"
   ]
  },
  {
   "cell_type": "markdown",
   "metadata": {},
   "source": [
    "Example 3:\n",
    "\n",
    "<p>Input: nums = [1,3,5,6], target = 7</p>\n",
    "Output: 4"
   ]
  },
  {
   "cell_type": "code",
   "execution_count": null,
   "metadata": {},
   "outputs": [],
   "source": [
    "def searchInsert(self, nums, target):\n",
    "    \"\"\"\n",
    "    :type nums: List[int]\n",
    "    :type target: int\n",
    "    :rtype: int\n",
    "    \"\"\"\n",
    "    left = 0\n",
    "    right = len(nums) - 1\n",
    "    \n",
    "    while left <= right:\n",
    "        pivot = left + (right - left)//2\n",
    "        if nums[pivot] == target:\n",
    "             return pivot\n",
    "        elif nums[pivot] > target:\n",
    "            if (pivot == 0) or (nums[pivot-1] < target):\n",
    "                return pivot\n",
    "            right = pivot -1\n",
    "        else:\n",
    "            if (pivot == len(nums) -1) or (nums[pivot+1] > target):\n",
    "                return pivot + 1\n",
    "            left = pivot + 1\n",
    "    return pivot"
   ]
  },
  {
   "cell_type": "code",
   "execution_count": null,
   "metadata": {},
   "outputs": [],
   "source": [
    "#下面这一串是我第一次做忘记的 \n",
    "\n",
    "# 1. while loop 要加 =\n",
    "# while left <= right:\n",
    "\n",
    "# 2. 要判断边缘的状态\n",
    "#       * 超过左边不行\n",
    "#       * 超过右边不行\n",
    "#       * [1,3]找2不行\n",
    "# if (pivot == 0) or (nums[pivot-1] < target):\n",
    "#     eturn pivot\n",
    "# if (pivot == len(nums) -1) or (nums[pivot+1] > target):\n",
    "#     return pivot + 1           "
   ]
  }
 ],
 "metadata": {
  "interpreter": {
   "hash": "31f2aee4e71d21fbe5cf8b01ff0e069b9275f58929596ceb00d14d90e3e16cd6"
  },
  "kernelspec": {
   "display_name": "Python 3.8.2 64-bit",
   "language": "python",
   "name": "python3"
  },
  "language_info": {
   "name": "python",
   "version": "3.8.2"
  },
  "orig_nbformat": 4
 },
 "nbformat": 4,
 "nbformat_minor": 2
}
