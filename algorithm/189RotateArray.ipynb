{
 "cells": [
  {
   "cell_type": "markdown",
   "metadata": {},
   "source": [
    "### Problem Description\n",
    "Given an array, rotate the array to the right by k steps, where k is non-negative."
   ]
  },
  {
   "cell_type": "markdown",
   "metadata": {},
   "source": [
    "Example1:\n",
    "\n",
    "<p>Input: nums = [1,2,3,4,5,6,7], k = 3</p>\n",
    "<p>Output: [5,6,7,1,2,3,4]</p>\n",
    "\n",
    "Explanation:\n",
    "* rotate 1 steps to the right: [7,1,2,3,4,5,6]\n",
    "* rotate 2 steps to the right: [6,7,1,2,3,4,5]\n",
    "* rotate 3 steps to the right: [5,6,7,1,2,3,4]"
   ]
  },
  {
   "cell_type": "markdown",
   "metadata": {},
   "source": [
    "Example2:\n",
    "\n",
    "<p>Input: nums = [-1,-100,3,99], k = 2</p>\n",
    "<p>Output: [3,99,-1,-100]</p>\n",
    "\n",
    "Explanation:\n",
    "* rotate 1 steps to the right: [99,-1,-100,3]\n",
    "* rotate 2 steps to the right: [3,99,-1,-100]"
   ]
  },
  {
   "cell_type": "markdown",
   "metadata": {},
   "source": [
    "Follow up:\n",
    "\n",
    "> Try to come up with as many solutions as you can. There are at least three different ways to solve this problem.\n",
    "\n",
    "> Could you do it in-place with O(1) extra space?"
   ]
  },
  {
   "cell_type": "code",
   "execution_count": null,
   "metadata": {},
   "outputs": [],
   "source": [
    "##### 错误版本，一开始天真了，忽略了k大于\n",
    "class Solution:\n",
    "    def rotate(self, nums: List[int], k: int) -> None:\n",
    "        \"\"\"\n",
    "        Do not return anything, modify nums in-place instead.\n",
    "        \"\"\"\n",
    "        length = len(nums)\n",
    "        cut = length - k\n",
    "        first = nums[4:7]\n",
    "        newCut = cut - 1\n",
    "        rest = nums[:newCut]\n",
    "        output = first + rest\n",
    "        return output"
   ]
  },
  {
   "cell_type": "code",
   "execution_count": null,
   "metadata": {},
   "outputs": [],
   "source": [
    "# O(1) running time, O(1)/O(n) memory use not sure\n",
    "class Solution:\n",
    "    def rotate(self, nums: List[int], k: int) -> None:\n",
    "        \"\"\"\n",
    "        Do not return anything, modify nums in-place instead.\n",
    "        \"\"\"\n",
    "        length = len(nums)\n",
    "        edge = k % length\n",
    "        nums[:] = nums[length-edge:] + nums[:length-edge]"
   ]
  },
  {
   "cell_type": "code",
   "execution_count": null,
   "metadata": {},
   "outputs": [],
   "source": [
    "# O(n) running time, O(1) memory use，根据halfrost的思路，但是leetcode不让我跑就离谱，可恶\n",
    "\n",
    "class Solution:\n",
    "    def rotate(self, nums: List[int], k: int) -> None:\n",
    "        \"\"\"\n",
    "        Do not return anything, modify nums in-place instead.\n",
    "        \"\"\"\n",
    "        edge = k % len(nums)\n",
    "        output = reverse(nums)\n",
    "        output = reverse(nums[:edge])\n",
    "        output = reverse(nums[edge:])\n",
    "        return output\n",
    "\n",
    "    def reverse(loi):\n",
    "        # for (i = 0, i < len(loi) /2, i++):\n",
    "        #     loi[i], loi[n-1-i] = loi[n-1-i], loi[i]\n",
    "        for i in range(0,len(loi)/2):\n",
    "            loi[i], loi[n-1-i] = loi[n-1-i], loi[i]\n",
    "        return loi"
   ]
  }
 ],
 "metadata": {
  "interpreter": {
   "hash": "31f2aee4e71d21fbe5cf8b01ff0e069b9275f58929596ceb00d14d90e3e16cd6"
  },
  "kernelspec": {
   "display_name": "Python 3.8.2 64-bit",
   "language": "python",
   "name": "python3"
  },
  "language_info": {
   "name": "python",
   "version": "3.8.2"
  },
  "orig_nbformat": 4
 },
 "nbformat": 4,
 "nbformat_minor": 2
}
