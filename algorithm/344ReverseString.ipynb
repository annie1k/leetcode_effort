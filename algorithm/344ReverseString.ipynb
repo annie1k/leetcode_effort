{
 "cells": [
  {
   "cell_type": "markdown",
   "metadata": {},
   "source": [
    "#### Problem Description:\n",
    "Write a function that reverses a string. The input string is given as an array of characters s.\n",
    "\n",
    "You must do this by modifying the input array in-place with O(1) extra memory."
   ]
  },
  {
   "cell_type": "markdown",
   "metadata": {},
   "source": [
    "Example1:\n",
    "<p>Input: s = [\"h\",\"e\",\"l\",\"l\",\"o\"]</p>\n",
    "<p>Output: [\"o\",\"l\",\"l\",\"e\",\"h\"]</p>"
   ]
  },
  {
   "cell_type": "markdown",
   "metadata": {},
   "source": [
    "Example2:\n",
    "<p>Input: s = [\"H\",\"a\",\"n\",\"n\",\"a\",\"h\"]</p>\n",
    "<p>Output: [\"h\",\"a\",\"n\",\"n\",\"a\",\"H\"]</p>"
   ]
  },
  {
   "cell_type": "code",
   "execution_count": null,
   "metadata": {},
   "outputs": [],
   "source": [
    "#  very funny thing is that I can simply user reverse()\n",
    "class Solution:\n",
    "    def reverseString(self, s: List[str]) -> None:\n",
    "        \"\"\"\n",
    "        Do not return anything, modify s in-place instead.\n",
    "        \"\"\"\n",
    "        s.reverse()"
   ]
  },
  {
   "cell_type": "code",
   "execution_count": null,
   "metadata": {},
   "outputs": [],
   "source": [
    "# 解法2，不难想\n",
    "class Solution:\n",
    "    def reverseString(self, s: List[str]) -> None:\n",
    "        \"\"\"\n",
    "        Do not return anything, modify s in-place instead.\n",
    "        \"\"\"\n",
    "        i = 0\n",
    "        j = len(s) - 1\n",
    "        while (i < j):\n",
    "            s[i], s[j] = s[j], s[i]# exchange of assignment \n",
    "            i+=1\n",
    "            j-=1"
   ]
  },
  {
   "cell_type": "code",
   "execution_count": null,
   "metadata": {},
   "outputs": [],
   "source": [
    "# 我非常想用pop 和append每一个elements来达到。但是发现我太憨了哈哈哈，绝对不行啦！！！！！\n",
    "class Solution:\n",
    "    def reverseString(self, s: List[str]) -> None:\n",
    "        \"\"\"\n",
    "        Do not return anything, modify s in-place instead.\n",
    "        \"\"\"\n",
    "        i = len(s) - 1\n",
    "        for x in range(0,i):\n",
    "            elements = s.pop(0)\n",
    "            s.append(elements)\n",
    "# input：[\"h\",\"e\",\"l\",\"l\",\"o\"]\n",
    "# output：[\"o\",\"h\",\"e\",\"l\",\"l\"]\n",
    "# expected：[\"o\",\"l\",\"l\",\"e\",\"h\"]"
   ]
  }
 ],
 "metadata": {
  "interpreter": {
   "hash": "31f2aee4e71d21fbe5cf8b01ff0e069b9275f58929596ceb00d14d90e3e16cd6"
  },
  "kernelspec": {
   "display_name": "Python 3.8.2 64-bit",
   "language": "python",
   "name": "python3"
  },
  "language_info": {
   "name": "python",
   "version": "3.8.2"
  },
  "orig_nbformat": 4
 },
 "nbformat": 4,
 "nbformat_minor": 2
}
