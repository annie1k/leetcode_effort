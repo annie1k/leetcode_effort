{
 "cells": [
  {
   "cell_type": "markdown",
   "metadata": {},
   "source": [
    "#### Problem Description\n",
    "Given a string s, reverse the order of characters in each word within a sentence while still preserving whitespace and initial word order."
   ]
  },
  {
   "cell_type": "markdown",
   "metadata": {},
   "source": [
    "Example1:\n",
    "<p>Input: s = \"Let's take LeetCode contest\"</p>\n",
    "<p>Output: \"s'teL ekat edoCteeL tsetnoc\"</p>"
   ]
  },
  {
   "cell_type": "markdown",
   "metadata": {},
   "source": [
    "Example2:\n",
    "<p>Input: s = \"God Ding\"</p>\n",
    "<p>Output: \"doG gniD\"</p>"
   ]
  },
  {
   "cell_type": "code",
   "execution_count": null,
   "metadata": {},
   "outputs": [],
   "source": [
    "# 自己写的可读性不高，速度空间各方面都不好。\n",
    "class Solution:\n",
    "    def reverseWords(self, s: str) -> str:\n",
    "        length = len(s)\n",
    "        first = 0\n",
    "        output = \"\"\n",
    "        count = 0\n",
    "        s = s + \" \"\n",
    "        for x in s:\n",
    "            if x == \" \":\n",
    "                last = count\n",
    "                stuff = s[first:last]\n",
    "                output = output + stuff[::-1] + \" \"\n",
    "                first = count + 1\n",
    "            count = count + 1\n",
    "        return output[:-1]"
   ]
  },
  {
   "cell_type": "code",
   "execution_count": null,
   "metadata": {},
   "outputs": [],
   "source": [
    "# 一个离离原上谱的答案\n",
    "class Solution:\n",
    "    def reverseWords(self, s: str) -> str:\n",
    "        return \" \".join([i[::-1] for i in s.split()])"
   ]
  },
  {
   "cell_type": "code",
   "execution_count": null,
   "metadata": {},
   "outputs": [],
   "source": [
    "# 一个优秀的答案\n",
    "def reverseWords(self, s):\n",
    "    temp = s.split(\" \")\n",
    "    result = \"\"\n",
    "    for word in temp:\n",
    "        word = word[::-1]\n",
    "        result += word + \" \"\n",
    "    return result[:-1]"
   ]
  },
  {
   "cell_type": "markdown",
   "metadata": {},
   "source": [
    "对上面的答案稍加注释：\n",
    "<p>split 会生成 list of strings</p>\n",
    "\n",
    "<p>[x:y:z] examples:</p>\n",
    "\"<object_name>[<start_index>, <stop_index>, <step>]\"\n",
    "\n",
    "Example1:\n",
    "<p>a = '1234'</p>\n",
    "<p>print a[::2]</p>\n",
    "\n",
    "Example2:\n",
    "<p>a = '1234'</p>\n",
    "<p>print a[3:0:-1]</p>\n",
    "\n",
    "\n",
    "[:-1]的作用是去掉最后一个item。\n"
   ]
  }
 ],
 "metadata": {
  "interpreter": {
   "hash": "31f2aee4e71d21fbe5cf8b01ff0e069b9275f58929596ceb00d14d90e3e16cd6"
  },
  "kernelspec": {
   "display_name": "Python 3.8.2 64-bit",
   "language": "python",
   "name": "python3"
  },
  "language_info": {
   "name": "python",
   "version": "3.8.2"
  },
  "orig_nbformat": 4
 },
 "nbformat": 4,
 "nbformat_minor": 2
}
